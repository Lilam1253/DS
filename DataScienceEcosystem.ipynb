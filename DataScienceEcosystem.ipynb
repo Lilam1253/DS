{
 "cells": [
  {
   "cell_type": "markdown",
   "id": "1b822b6f",
   "metadata": {},
   "source": [
    "# Data Science Tools and Ecosystem"
   ]
  },
  {
   "cell_type": "markdown",
   "id": "659d9ef1",
   "metadata": {},
   "source": [
    "In this notebook, Data Science Tools and Ecosystem are summarized.\n",
    "Jupyter supports presenting results directly from the notebooks.\n",
    "You can create a Markdown to add titles and text descriptions to help with the flow of the presentation. \n",
    "To add markdown, click Code and select Markdown. \n",
    "You can create line plots and convert each cell and output into a slide or sub-slide in the form of a presentation."
   ]
  },
  {
   "cell_type": "markdown",
   "id": "2857168a",
   "metadata": {},
   "source": [
    "# Objectives:"
   ]
  },
  {
   "cell_type": "markdown",
   "id": "266ebd37",
   "metadata": {},
   "source": [
    "+ list popular languages for Data Science\n",
    "+ commonly used libraries used by Data Scientists\n",
    "+ data science tools"
   ]
  },
  {
   "cell_type": "markdown",
   "id": "643d8e7e",
   "metadata": {},
   "source": [
    "Some of the popular languages that Data Scientists use are:"
   ]
  },
  {
   "cell_type": "code",
   "execution_count": 3,
   "id": "ab0ac3f9",
   "metadata": {},
   "outputs": [
    {
     "name": "stdout",
     "output_type": "stream",
     "text": [
      "['C/C++', 'Go', 'Java', 'JavaScript', 'Julia', 'MATLAB', 'Python', 'R', 'SAS', 'SQL', 'Scala', 'Swift']\n"
     ]
    }
   ],
   "source": [
    "li = (\"Python\",\"R\",\"SQL\",\"Java\",\"Julia\",\"Scala\",\"C/C++\",\"JavaScript\",\"Swift\",\"Go\",\"MATLAB\",\"SAS\")\n",
    "x= sorted(li)\n",
    "print(x)"
   ]
  },
  {
   "cell_type": "markdown",
   "id": "a761196b",
   "metadata": {},
   "source": [
    "Some of the commonly used libraries used by Data Scientists include:"
   ]
  },
  {
   "cell_type": "code",
   "execution_count": 4,
   "id": "63774f40",
   "metadata": {},
   "outputs": [
    {
     "name": "stdout",
     "output_type": "stream",
     "text": [
      "['Matplotlib', 'NumPy', 'SciPy']\n"
     ]
    }
   ],
   "source": [
    "y = (\"NumPy\",\"SciPy\",\"Matplotlib\")\n",
    "a= sorted(y)\n",
    "print(a)"
   ]
  },
  {
   "cell_type": "markdown",
   "id": "5c884084",
   "metadata": {},
   "source": [
    "Data Science Tools\n",
    "\n",
    "|Java                   |     Scala                |  JavaScript        |\n",
    "|-----------------------|--------------------------|--------------------|\n",
    "|Weka                   |  Shark                   | TensorFlow.js      |\n",
    "|Java-ML                |  MLlib                   | R-js               |\n",
    "|Apache MLlib           |  GraphX                  |                    |\n",
    "|Deeplearning4          | Spark Streaming          |                    |"
   ]
  },
  {
   "cell_type": "markdown",
   "id": "c4661dd5",
   "metadata": {},
   "source": [
    "### Below are a few examples of evaluating arithmetic expressions in Python\n",
    "x = 40\n",
    "y = 12\n",
    "  \n",
    "add = x + y\n",
    "sub = x - y\n",
    "pro = x * y\n",
    "div = x / y\n",
    "  \n",
    "print(add)\n",
    "print(sub)\n",
    "print(pro)\n",
    "print(div)"
   ]
  },
  {
   "cell_type": "code",
   "execution_count": 1,
   "id": "5a8de2c2",
   "metadata": {},
   "outputs": [
    {
     "name": "stdout",
     "output_type": "stream",
     "text": [
      "17\n"
     ]
    }
   ],
   "source": [
    "# This a simple arithmetic expression to mutiply then add integers\n",
    "x=3\n",
    "y=4\n",
    "z=5\n",
    "ans=(x*y) + z\n",
    "print(ans)"
   ]
  },
  {
   "cell_type": "code",
   "execution_count": 2,
   "id": "dab12f42",
   "metadata": {},
   "outputs": [
    {
     "name": "stdout",
     "output_type": "stream",
     "text": [
      "3.3333333333333335\n"
     ]
    }
   ],
   "source": [
    "# This will convert 200 minutes to hours by diving by 60\n",
    "x = 200\n",
    "y = x/60\n",
    "print(y)"
   ]
  },
  {
   "cell_type": "markdown",
   "id": "62dab2a3",
   "metadata": {},
   "source": [
    "## Author\n",
    "Lilam Prajapati"
   ]
  }
 ],
 "metadata": {
  "kernelspec": {
   "display_name": "Python 3 (ipykernel)",
   "language": "python",
   "name": "python3"
  },
  "language_info": {
   "codemirror_mode": {
    "name": "ipython",
    "version": 3
   },
   "file_extension": ".py",
   "mimetype": "text/x-python",
   "name": "python",
   "nbconvert_exporter": "python",
   "pygments_lexer": "ipython3",
   "version": "3.10.5"
  }
 },
 "nbformat": 4,
 "nbformat_minor": 5
}
